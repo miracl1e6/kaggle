{
 "cells": [
  {
   "cell_type": "code",
   "execution_count": 2,
   "metadata": {},
   "outputs": [],
   "source": [
    "import numpy as np \n",
    "import pandas as pd \n",
    "import matplotlib.pyplot as plt\n",
    "import seaborn as sns\n",
    "from sklearn import model_selection, preprocessing\n",
    "import xgboost as xgb\n",
    "from sklearn.grid_search import GridSearchCV\n",
    "from sklearn.cross_validation import *\n",
    "from sklearn.tree import DecisionTreeRegressor\n",
    "from sklearn.ensemble import RandomForestRegressor\n",
    "import category_encoders as ce\n",
    "from sklearn.preprocessing import OneHotEncoder\n",
    "from sklearn.preprocessing import LabelEncoder"
   ]
  },
  {
   "cell_type": "code",
   "execution_count": 3,
   "metadata": {},
   "outputs": [],
   "source": [
    "color = sns.color_palette()"
   ]
  },
  {
   "cell_type": "code",
   "execution_count": 4,
   "metadata": {},
   "outputs": [],
   "source": [
    "#%matplotlib inline\n",
    "\n",
    "#pd.options.mode.chained_assignment = None  # default='warn'\n",
    "#pd.set_option('display.max_columns', 500)"
   ]
  },
  {
   "cell_type": "code",
   "execution_count": 5,
   "metadata": {},
   "outputs": [],
   "source": [
    "df_test = pd.read_csv(\"input/input/test.csv\")\n",
    "sample_submission = pd.read_csv(\"input/input/sample_submission.csv\")\n",
    "df_train = pd.read_csv(\"input/input/train.csv\")"
   ]
  },
  {
   "cell_type": "code",
   "execution_count": 6,
   "metadata": {},
   "outputs": [
    {
     "data": {
      "text/html": [
       "<div>\n",
       "<style scoped>\n",
       "    .dataframe tbody tr th:only-of-type {\n",
       "        vertical-align: middle;\n",
       "    }\n",
       "\n",
       "    .dataframe tbody tr th {\n",
       "        vertical-align: top;\n",
       "    }\n",
       "\n",
       "    .dataframe thead th {\n",
       "        text-align: right;\n",
       "    }\n",
       "</style>\n",
       "<table border=\"1\" class=\"dataframe\">\n",
       "  <thead>\n",
       "    <tr style=\"text-align: right;\">\n",
       "      <th></th>\n",
       "      <th>Id</th>\n",
       "      <th>MSSubClass</th>\n",
       "      <th>MSZoning</th>\n",
       "      <th>LotFrontage</th>\n",
       "      <th>LotArea</th>\n",
       "      <th>Street</th>\n",
       "      <th>Alley</th>\n",
       "      <th>LotShape</th>\n",
       "      <th>LandContour</th>\n",
       "      <th>Utilities</th>\n",
       "      <th>...</th>\n",
       "      <th>ScreenPorch</th>\n",
       "      <th>PoolArea</th>\n",
       "      <th>PoolQC</th>\n",
       "      <th>Fence</th>\n",
       "      <th>MiscFeature</th>\n",
       "      <th>MiscVal</th>\n",
       "      <th>MoSold</th>\n",
       "      <th>YrSold</th>\n",
       "      <th>SaleType</th>\n",
       "      <th>SaleCondition</th>\n",
       "    </tr>\n",
       "  </thead>\n",
       "  <tbody>\n",
       "    <tr>\n",
       "      <th>0</th>\n",
       "      <td>1461</td>\n",
       "      <td>20</td>\n",
       "      <td>RH</td>\n",
       "      <td>80.0</td>\n",
       "      <td>11622</td>\n",
       "      <td>Pave</td>\n",
       "      <td>NaN</td>\n",
       "      <td>Reg</td>\n",
       "      <td>Lvl</td>\n",
       "      <td>AllPub</td>\n",
       "      <td>...</td>\n",
       "      <td>120</td>\n",
       "      <td>0</td>\n",
       "      <td>NaN</td>\n",
       "      <td>MnPrv</td>\n",
       "      <td>NaN</td>\n",
       "      <td>0</td>\n",
       "      <td>6</td>\n",
       "      <td>2010</td>\n",
       "      <td>WD</td>\n",
       "      <td>Normal</td>\n",
       "    </tr>\n",
       "    <tr>\n",
       "      <th>1</th>\n",
       "      <td>1462</td>\n",
       "      <td>20</td>\n",
       "      <td>RL</td>\n",
       "      <td>81.0</td>\n",
       "      <td>14267</td>\n",
       "      <td>Pave</td>\n",
       "      <td>NaN</td>\n",
       "      <td>IR1</td>\n",
       "      <td>Lvl</td>\n",
       "      <td>AllPub</td>\n",
       "      <td>...</td>\n",
       "      <td>0</td>\n",
       "      <td>0</td>\n",
       "      <td>NaN</td>\n",
       "      <td>NaN</td>\n",
       "      <td>Gar2</td>\n",
       "      <td>12500</td>\n",
       "      <td>6</td>\n",
       "      <td>2010</td>\n",
       "      <td>WD</td>\n",
       "      <td>Normal</td>\n",
       "    </tr>\n",
       "  </tbody>\n",
       "</table>\n",
       "<p>2 rows × 80 columns</p>\n",
       "</div>"
      ],
      "text/plain": [
       "     Id  MSSubClass MSZoning  LotFrontage  LotArea Street Alley LotShape  \\\n",
       "0  1461          20       RH         80.0    11622   Pave   NaN      Reg   \n",
       "1  1462          20       RL         81.0    14267   Pave   NaN      IR1   \n",
       "\n",
       "  LandContour Utilities      ...       ScreenPorch PoolArea PoolQC  Fence  \\\n",
       "0         Lvl    AllPub      ...               120        0    NaN  MnPrv   \n",
       "1         Lvl    AllPub      ...                 0        0    NaN    NaN   \n",
       "\n",
       "  MiscFeature MiscVal MoSold  YrSold  SaleType  SaleCondition  \n",
       "0         NaN       0      6    2010        WD         Normal  \n",
       "1        Gar2   12500      6    2010        WD         Normal  \n",
       "\n",
       "[2 rows x 80 columns]"
      ]
     },
     "execution_count": 6,
     "metadata": {},
     "output_type": "execute_result"
    }
   ],
   "source": [
    "df_test.head(2)"
   ]
  },
  {
   "cell_type": "code",
   "execution_count": 7,
   "metadata": {},
   "outputs": [
    {
     "data": {
      "text/html": [
       "<div>\n",
       "<style scoped>\n",
       "    .dataframe tbody tr th:only-of-type {\n",
       "        vertical-align: middle;\n",
       "    }\n",
       "\n",
       "    .dataframe tbody tr th {\n",
       "        vertical-align: top;\n",
       "    }\n",
       "\n",
       "    .dataframe thead th {\n",
       "        text-align: right;\n",
       "    }\n",
       "</style>\n",
       "<table border=\"1\" class=\"dataframe\">\n",
       "  <thead>\n",
       "    <tr style=\"text-align: right;\">\n",
       "      <th></th>\n",
       "      <th>Id</th>\n",
       "      <th>MSSubClass</th>\n",
       "      <th>MSZoning</th>\n",
       "      <th>LotFrontage</th>\n",
       "      <th>LotArea</th>\n",
       "      <th>Street</th>\n",
       "      <th>Alley</th>\n",
       "      <th>LotShape</th>\n",
       "      <th>LandContour</th>\n",
       "      <th>Utilities</th>\n",
       "      <th>...</th>\n",
       "      <th>PoolArea</th>\n",
       "      <th>PoolQC</th>\n",
       "      <th>Fence</th>\n",
       "      <th>MiscFeature</th>\n",
       "      <th>MiscVal</th>\n",
       "      <th>MoSold</th>\n",
       "      <th>YrSold</th>\n",
       "      <th>SaleType</th>\n",
       "      <th>SaleCondition</th>\n",
       "      <th>SalePrice</th>\n",
       "    </tr>\n",
       "  </thead>\n",
       "  <tbody>\n",
       "    <tr>\n",
       "      <th>0</th>\n",
       "      <td>1</td>\n",
       "      <td>60</td>\n",
       "      <td>RL</td>\n",
       "      <td>65.0</td>\n",
       "      <td>8450</td>\n",
       "      <td>Pave</td>\n",
       "      <td>NaN</td>\n",
       "      <td>Reg</td>\n",
       "      <td>Lvl</td>\n",
       "      <td>AllPub</td>\n",
       "      <td>...</td>\n",
       "      <td>0</td>\n",
       "      <td>NaN</td>\n",
       "      <td>NaN</td>\n",
       "      <td>NaN</td>\n",
       "      <td>0</td>\n",
       "      <td>2</td>\n",
       "      <td>2008</td>\n",
       "      <td>WD</td>\n",
       "      <td>Normal</td>\n",
       "      <td>208500</td>\n",
       "    </tr>\n",
       "    <tr>\n",
       "      <th>1</th>\n",
       "      <td>2</td>\n",
       "      <td>20</td>\n",
       "      <td>RL</td>\n",
       "      <td>80.0</td>\n",
       "      <td>9600</td>\n",
       "      <td>Pave</td>\n",
       "      <td>NaN</td>\n",
       "      <td>Reg</td>\n",
       "      <td>Lvl</td>\n",
       "      <td>AllPub</td>\n",
       "      <td>...</td>\n",
       "      <td>0</td>\n",
       "      <td>NaN</td>\n",
       "      <td>NaN</td>\n",
       "      <td>NaN</td>\n",
       "      <td>0</td>\n",
       "      <td>5</td>\n",
       "      <td>2007</td>\n",
       "      <td>WD</td>\n",
       "      <td>Normal</td>\n",
       "      <td>181500</td>\n",
       "    </tr>\n",
       "  </tbody>\n",
       "</table>\n",
       "<p>2 rows × 81 columns</p>\n",
       "</div>"
      ],
      "text/plain": [
       "   Id  MSSubClass MSZoning  LotFrontage  LotArea Street Alley LotShape  \\\n",
       "0   1          60       RL         65.0     8450   Pave   NaN      Reg   \n",
       "1   2          20       RL         80.0     9600   Pave   NaN      Reg   \n",
       "\n",
       "  LandContour Utilities    ...     PoolArea PoolQC Fence MiscFeature MiscVal  \\\n",
       "0         Lvl    AllPub    ...            0    NaN   NaN         NaN       0   \n",
       "1         Lvl    AllPub    ...            0    NaN   NaN         NaN       0   \n",
       "\n",
       "  MoSold YrSold  SaleType  SaleCondition  SalePrice  \n",
       "0      2   2008        WD         Normal     208500  \n",
       "1      5   2007        WD         Normal     181500  \n",
       "\n",
       "[2 rows x 81 columns]"
      ]
     },
     "execution_count": 7,
     "metadata": {},
     "output_type": "execute_result"
    }
   ],
   "source": [
    "df_train.head(2)"
   ]
  },
  {
   "cell_type": "code",
   "execution_count": 8,
   "metadata": {},
   "outputs": [
    {
     "data": {
      "text/html": [
       "<div>\n",
       "<style scoped>\n",
       "    .dataframe tbody tr th:only-of-type {\n",
       "        vertical-align: middle;\n",
       "    }\n",
       "\n",
       "    .dataframe tbody tr th {\n",
       "        vertical-align: top;\n",
       "    }\n",
       "\n",
       "    .dataframe thead th {\n",
       "        text-align: right;\n",
       "    }\n",
       "</style>\n",
       "<table border=\"1\" class=\"dataframe\">\n",
       "  <thead>\n",
       "    <tr style=\"text-align: right;\">\n",
       "      <th></th>\n",
       "      <th>Id</th>\n",
       "      <th>MSSubClass</th>\n",
       "      <th>MSZoning</th>\n",
       "      <th>LotFrontage</th>\n",
       "      <th>LotArea</th>\n",
       "      <th>Street</th>\n",
       "      <th>Alley</th>\n",
       "      <th>LotShape</th>\n",
       "      <th>LandContour</th>\n",
       "      <th>Utilities</th>\n",
       "      <th>...</th>\n",
       "      <th>PoolArea</th>\n",
       "      <th>PoolQC</th>\n",
       "      <th>Fence</th>\n",
       "      <th>MiscFeature</th>\n",
       "      <th>MiscVal</th>\n",
       "      <th>MoSold</th>\n",
       "      <th>YrSold</th>\n",
       "      <th>SaleType</th>\n",
       "      <th>SaleCondition</th>\n",
       "      <th>SalePrice</th>\n",
       "    </tr>\n",
       "  </thead>\n",
       "  <tbody>\n",
       "    <tr>\n",
       "      <th>0</th>\n",
       "      <td>1</td>\n",
       "      <td>60</td>\n",
       "      <td>RL</td>\n",
       "      <td>65.0</td>\n",
       "      <td>8450</td>\n",
       "      <td>Pave</td>\n",
       "      <td>NaN</td>\n",
       "      <td>Reg</td>\n",
       "      <td>Lvl</td>\n",
       "      <td>AllPub</td>\n",
       "      <td>...</td>\n",
       "      <td>0</td>\n",
       "      <td>NaN</td>\n",
       "      <td>NaN</td>\n",
       "      <td>NaN</td>\n",
       "      <td>0</td>\n",
       "      <td>2</td>\n",
       "      <td>2008</td>\n",
       "      <td>WD</td>\n",
       "      <td>Normal</td>\n",
       "      <td>208500</td>\n",
       "    </tr>\n",
       "    <tr>\n",
       "      <th>1</th>\n",
       "      <td>2</td>\n",
       "      <td>20</td>\n",
       "      <td>RL</td>\n",
       "      <td>80.0</td>\n",
       "      <td>9600</td>\n",
       "      <td>Pave</td>\n",
       "      <td>NaN</td>\n",
       "      <td>Reg</td>\n",
       "      <td>Lvl</td>\n",
       "      <td>AllPub</td>\n",
       "      <td>...</td>\n",
       "      <td>0</td>\n",
       "      <td>NaN</td>\n",
       "      <td>NaN</td>\n",
       "      <td>NaN</td>\n",
       "      <td>0</td>\n",
       "      <td>5</td>\n",
       "      <td>2007</td>\n",
       "      <td>WD</td>\n",
       "      <td>Normal</td>\n",
       "      <td>181500</td>\n",
       "    </tr>\n",
       "  </tbody>\n",
       "</table>\n",
       "<p>2 rows × 81 columns</p>\n",
       "</div>"
      ],
      "text/plain": [
       "   Id  MSSubClass MSZoning  LotFrontage  LotArea Street Alley LotShape  \\\n",
       "0   1          60       RL         65.0     8450   Pave   NaN      Reg   \n",
       "1   2          20       RL         80.0     9600   Pave   NaN      Reg   \n",
       "\n",
       "  LandContour Utilities    ...     PoolArea PoolQC Fence MiscFeature MiscVal  \\\n",
       "0         Lvl    AllPub    ...            0    NaN   NaN         NaN       0   \n",
       "1         Lvl    AllPub    ...            0    NaN   NaN         NaN       0   \n",
       "\n",
       "  MoSold YrSold  SaleType  SaleCondition  SalePrice  \n",
       "0      2   2008        WD         Normal     208500  \n",
       "1      5   2007        WD         Normal     181500  \n",
       "\n",
       "[2 rows x 81 columns]"
      ]
     },
     "execution_count": 8,
     "metadata": {},
     "output_type": "execute_result"
    }
   ],
   "source": [
    "df_train.head(2)"
   ]
  },
  {
   "cell_type": "code",
   "execution_count": 9,
   "metadata": {},
   "outputs": [
    {
     "data": {
      "image/png": "[encoded data removed]",
      "text/plain": [
       "<matplotlib.figure.Figure at 0x11b88a630>"
      ]
     },
     "metadata": {},
     "output_type": "display_data"
    }
   ],
   "source": [
    "#график разброса цены отсортированный по возрастанию индексов\n",
    "plt.figure(figsize=(10,5))\n",
    "plt.scatter(range(df_train.shape[0]), np.sort(df_train.SalePrice.values))\n",
    "plt.xlabel('index', fontsize=12)\n",
    "plt.ylabel('Sale Price', fontsize=12)\n",
    "plt.show()"
   ]
  },
  {
   "cell_type": "code",
   "execution_count": 10,
   "metadata": {},
   "outputs": [
    {
     "data": {
      "image/png": "[encoded data removed]",
      "text/plain": [
       "<matplotlib.figure.Figure at 0x11b88a1d0>"
      ]
     },
     "metadata": {},
     "output_type": "display_data"
    }
   ],
   "source": [
    "#гистограмма и кривая распредление цены\n",
    "plt.figure(figsize=(10,5))\n",
    "sns.distplot(df_train.SalePrice.values, kde=True)\n",
    "plt.xlabel('Sale Price', fontsize=12)\n",
    "plt.show()"
   ]
  },
  {
   "cell_type": "code",
   "execution_count": 11,
   "metadata": {},
   "outputs": [
    {
     "data": {
      "image/png": "[encoded data removed]",
      "text/plain": [
       "<matplotlib.figure.Figure at 0x11e24b6a0>"
      ]
     },
     "metadata": {},
     "output_type": "display_data"
    }
   ],
   "source": [
    "#берем логарифм от цены\n",
    "plt.figure(figsize=(10,5))\n",
    "sns.distplot(np.log(df_train.SalePrice.values), bins=40, kde=True, color=color[4])\n",
    "plt.xlabel('Sale Price', fontsize=12)\n",
    "plt.show()"
   ]
  },
  {
   "cell_type": "code",
   "execution_count": 12,
   "metadata": {},
   "outputs": [
    {
     "data": {
      "text/html": [
       "<div>\n",
       "<style scoped>\n",
       "    .dataframe tbody tr th:only-of-type {\n",
       "        vertical-align: middle;\n",
       "    }\n",
       "\n",
       "    .dataframe tbody tr th {\n",
       "        vertical-align: top;\n",
       "    }\n",
       "\n",
       "    .dataframe thead th {\n",
       "        text-align: right;\n",
       "    }\n",
       "</style>\n",
       "<table border=\"1\" class=\"dataframe\">\n",
       "  <thead>\n",
       "    <tr style=\"text-align: right;\">\n",
       "      <th></th>\n",
       "      <th>Column Type</th>\n",
       "      <th>Count</th>\n",
       "    </tr>\n",
       "  </thead>\n",
       "  <tbody>\n",
       "    <tr>\n",
       "      <th>0</th>\n",
       "      <td>int64</td>\n",
       "      <td>33</td>\n",
       "    </tr>\n",
       "    <tr>\n",
       "      <th>1</th>\n",
       "      <td>float64</td>\n",
       "      <td>3</td>\n",
       "    </tr>\n",
       "    <tr>\n",
       "      <th>2</th>\n",
       "      <td>datetime64[ns]</td>\n",
       "      <td>1</td>\n",
       "    </tr>\n",
       "    <tr>\n",
       "      <th>3</th>\n",
       "      <td>object</td>\n",
       "      <td>44</td>\n",
       "    </tr>\n",
       "  </tbody>\n",
       "</table>\n",
       "</div>"
      ],
      "text/plain": [
       "      Column Type  Count\n",
       "0           int64     33\n",
       "1         float64      3\n",
       "2  datetime64[ns]      1\n",
       "3          object     44"
      ]
     },
     "execution_count": 12,
     "metadata": {},
     "output_type": "execute_result"
    }
   ],
   "source": [
    "df_train = pd.read_csv(\"input/input/train.csv\", parse_dates=['YrSold', 'MoSold'])\n",
    "df_test = pd.read_csv(\"input/input/test.csv\", parse_dates=['YrSold', 'MoSold'])\n",
    "\n",
    "#кол-во встречаемых типов данных\n",
    "dtype_df = df_train.dtypes.reset_index()\n",
    "dtype_df.columns = [\"Count\", \"Column Type\"]\n",
    "dtype_df.groupby(\"Column Type\").aggregate('count').reset_index()"
   ]
  },
  {
   "cell_type": "code",
   "execution_count": 13,
   "metadata": {},
   "outputs": [
    {
     "name": "stderr",
     "output_type": "stream",
     "text": [
      "/Users/miracl6/anaconda3/lib/python3.6/site-packages/ipykernel_launcher.py:6: DeprecationWarning: \n",
      ".ix is deprecated. Please use\n",
      ".loc for label based indexing or\n",
      ".iloc for positional indexing\n",
      "\n",
      "See the documentation here:\n",
      "http://pandas.pydata.org/pandas-docs/stable/indexing.html#ix-indexer-is-deprecated\n",
      "  \n"
     ]
    }
   ],
   "source": [
    "#кол-во пропусков по столбцам, вывод тех, у кого кол-во >1\n",
    "#train.isnull().sum().sort_values(ascending=False)[:20]\n",
    "\n",
    "missing_df = df_train.isnull().sum(axis=0).reset_index()\n",
    "missing_df.columns = ['column_name', 'pass_count']\n",
    "missing_df = missing_df.ix[missing_df['pass_count']>0]\n",
    "ind = np.arange(missing_df.shape[0])"
   ]
  },
  {
   "cell_type": "code",
   "execution_count": 14,
   "metadata": {},
   "outputs": [
    {
     "data": {
      "image/png": "[encoded data removed]",
      "text/plain": [
       "<matplotlib.figure.Figure at 0x11e4e3358>"
      ]
     },
     "metadata": {},
     "output_type": "display_data"
    }
   ],
   "source": [
    "fig, ax = plt.subplots(figsize=(20, 6))\n",
    "plt.xticks(rotation='90')\n",
    "sns.barplot(x=missing_df.column_name.values, y=missing_df.pass_count.values)\n",
    "plt.xlabel('Features', fontsize=15)\n",
    "plt.ylabel('Count of missing values', fontsize=15)\n",
    "plt.title('Number of missing values in each column', fontsize=15)\n",
    "plt.show()"
   ]
  },
  {
   "cell_type": "code",
   "execution_count": 15,
   "metadata": {},
   "outputs": [],
   "source": [
    "#заполняем пропуски 0ми\n",
    "df_train = df_train.fillna('0')"
   ]
  },
  {
   "cell_type": "code",
   "execution_count": 16,
   "metadata": {},
   "outputs": [
    {
     "name": "stdout",
     "output_type": "stream",
     "text": [
      "MSZoning ['RL' 'RM' 'C (all)' 'FV' 'RH']\n",
      "LotFrontage [65.0 80.0 68.0 60.0 84.0 85.0 75.0 '0' 51.0 50.0 70.0 91.0 72.0 66.0\n",
      " 101.0 57.0 44.0 110.0 98.0 47.0 108.0 112.0 74.0 115.0 61.0 48.0 33.0\n",
      " 52.0 100.0 24.0 89.0 63.0 76.0 81.0 95.0 69.0 21.0 32.0 78.0 121.0 122.0\n",
      " 40.0 105.0 73.0 77.0 64.0 94.0 34.0 90.0 55.0 88.0 82.0 71.0 120.0 107.0\n",
      " 92.0 134.0 62.0 86.0 141.0 97.0 54.0 41.0 79.0 174.0 99.0 67.0 83.0 43.0\n",
      " 103.0 93.0 30.0 129.0 140.0 35.0 37.0 118.0 87.0 116.0 150.0 111.0 49.0\n",
      " 96.0 59.0 36.0 56.0 102.0 58.0 38.0 109.0 130.0 53.0 137.0 45.0 106.0\n",
      " 104.0 42.0 39.0 144.0 114.0 128.0 149.0 313.0 168.0 182.0 138.0 160.0\n",
      " 152.0 124.0 153.0 46.0]\n",
      "Street ['Pave' 'Grvl']\n",
      "Alley ['0' 'Grvl' 'Pave']\n",
      "LotShape ['Reg' 'IR1' 'IR2' 'IR3']\n",
      "LandContour ['Lvl' 'Bnk' 'Low' 'HLS']\n",
      "Utilities ['AllPub' 'NoSeWa']\n",
      "LotConfig ['Inside' 'FR2' 'Corner' 'CulDSac' 'FR3']\n",
      "LandSlope ['Gtl' 'Mod' 'Sev']\n",
      "Neighborhood ['CollgCr' 'Veenker' 'Crawfor' 'NoRidge' 'Mitchel' 'Somerst' 'NWAmes'\n",
      " 'OldTown' 'BrkSide' 'Sawyer' 'NridgHt' 'NAmes' 'SawyerW' 'IDOTRR'\n",
      " 'MeadowV' 'Edwards' 'Timber' 'Gilbert' 'StoneBr' 'ClearCr' 'NPkVill'\n",
      " 'Blmngtn' 'BrDale' 'SWISU' 'Blueste']\n",
      "Condition1 ['Norm' 'Feedr' 'PosN' 'Artery' 'RRAe' 'RRNn' 'RRAn' 'PosA' 'RRNe']\n",
      "Condition2 ['Norm' 'Artery' 'RRNn' 'Feedr' 'PosN' 'PosA' 'RRAn' 'RRAe']\n",
      "BldgType ['1Fam' '2fmCon' 'Duplex' 'TwnhsE' 'Twnhs']\n",
      "HouseStyle ['2Story' '1Story' '1.5Fin' '1.5Unf' 'SFoyer' 'SLvl' '2.5Unf' '2.5Fin']\n",
      "RoofStyle ['Gable' 'Hip' 'Gambrel' 'Mansard' 'Flat' 'Shed']\n",
      "RoofMatl ['CompShg' 'WdShngl' 'Metal' 'WdShake' 'Membran' 'Tar&Grv' 'Roll'\n",
      " 'ClyTile']\n",
      "Exterior1st ['VinylSd' 'MetalSd' 'Wd Sdng' 'HdBoard' 'BrkFace' 'WdShing' 'CemntBd'\n",
      " 'Plywood' 'AsbShng' 'Stucco' 'BrkComm' 'AsphShn' 'Stone' 'ImStucc'\n",
      " 'CBlock']\n",
      "Exterior2nd ['VinylSd' 'MetalSd' 'Wd Shng' 'HdBoard' 'Plywood' 'Wd Sdng' 'CmentBd'\n",
      " 'BrkFace' 'Stucco' 'AsbShng' 'Brk Cmn' 'ImStucc' 'AsphShn' 'Stone'\n",
      " 'Other' 'CBlock']\n",
      "MasVnrType ['BrkFace' 'None' 'Stone' 'BrkCmn' '0']\n",
      "MasVnrArea [196.0 0.0 162.0 350.0 186.0 240.0 286.0 306.0 212.0 180.0 380.0 281.0\n",
      " 640.0 200.0 246.0 132.0 650.0 101.0 412.0 272.0 456.0 1031.0 178.0 573.0\n",
      " 344.0 287.0 167.0 1115.0 40.0 104.0 576.0 443.0 468.0 66.0 22.0 284.0\n",
      " 76.0 203.0 68.0 183.0 48.0 28.0 336.0 600.0 768.0 480.0 220.0 184.0\n",
      " 1129.0 116.0 135.0 266.0 85.0 309.0 136.0 288.0 70.0 320.0 50.0 120.0\n",
      " 436.0 252.0 84.0 664.0 226.0 300.0 653.0 112.0 491.0 268.0 748.0 98.0\n",
      " 275.0 138.0 205.0 262.0 128.0 260.0 153.0 64.0 312.0 16.0 922.0 142.0\n",
      " 290.0 127.0 506.0 297.0 '0' 604.0 254.0 36.0 102.0 472.0 481.0 108.0\n",
      " 302.0 172.0 399.0 270.0 46.0 210.0 174.0 348.0 315.0 299.0 340.0 166.0\n",
      " 72.0 31.0 34.0 238.0 1600.0 365.0 56.0 150.0 278.0 256.0 225.0 370.0\n",
      " 388.0 175.0 296.0 146.0 113.0 176.0 616.0 30.0 106.0 870.0 362.0 530.0\n",
      " 500.0 510.0 247.0 305.0 255.0 125.0 100.0 432.0 126.0 473.0 74.0 145.0\n",
      " 232.0 376.0 42.0 161.0 110.0 18.0 224.0 248.0 80.0 304.0 215.0 772.0\n",
      " 435.0 378.0 562.0 168.0 89.0 285.0 360.0 94.0 333.0 921.0 762.0 594.0\n",
      " 219.0 188.0 479.0 584.0 182.0 250.0 292.0 245.0 207.0 82.0 97.0 335.0\n",
      " 208.0 420.0 170.0 459.0 280.0 99.0 192.0 204.0 233.0 156.0 452.0 513.0\n",
      " 261.0 164.0 259.0 209.0 263.0 216.0 351.0 660.0 381.0 54.0 528.0 258.0\n",
      " 464.0 57.0 147.0 1170.0 293.0 630.0 466.0 109.0 41.0 160.0 289.0 651.0\n",
      " 169.0 95.0 442.0 202.0 338.0 894.0 328.0 673.0 603.0 1.0 375.0 90.0 38.0\n",
      " 157.0 11.0 140.0 130.0 148.0 860.0 424.0 1047.0 243.0 816.0 387.0 223.0\n",
      " 158.0 137.0 115.0 189.0 274.0 117.0 60.0 122.0 92.0 415.0 760.0 27.0 75.0\n",
      " 361.0 105.0 342.0 298.0 541.0 236.0 144.0 423.0 44.0 151.0 975.0 450.0\n",
      " 230.0 571.0 24.0 53.0 206.0 14.0 324.0 295.0 396.0 67.0 154.0 425.0 45.0\n",
      " 1378.0 337.0 149.0 143.0 51.0 171.0 234.0 63.0 766.0 32.0 81.0 163.0\n",
      " 554.0 218.0 632.0 114.0 567.0 359.0 451.0 621.0 788.0 86.0 796.0 391.0\n",
      " 228.0 88.0 165.0 428.0 410.0 564.0 368.0 318.0 579.0 65.0 705.0 408.0\n",
      " 244.0 123.0 366.0 731.0 448.0 294.0 310.0 237.0 426.0 96.0 438.0 194.0\n",
      " 119.0]\n",
      "ExterQual ['Gd' 'TA' 'Ex' 'Fa']\n",
      "ExterCond ['TA' 'Gd' 'Fa' 'Po' 'Ex']\n",
      "Foundation ['PConc' 'CBlock' 'BrkTil' 'Wood' 'Slab' 'Stone']\n",
      "BsmtQual ['Gd' 'TA' 'Ex' '0' 'Fa']\n",
      "BsmtCond ['TA' 'Gd' '0' 'Fa' 'Po']\n",
      "BsmtExposure ['No' 'Gd' 'Mn' 'Av' '0']\n",
      "BsmtFinType1 ['GLQ' 'ALQ' 'Unf' 'Rec' 'BLQ' '0' 'LwQ']\n",
      "BsmtFinType2 ['Unf' 'BLQ' '0' 'ALQ' 'Rec' 'LwQ' 'GLQ']\n",
      "Heating ['GasA' 'GasW' 'Grav' 'Wall' 'OthW' 'Floor']\n",
      "HeatingQC ['Ex' 'Gd' 'TA' 'Fa' 'Po']\n",
      "CentralAir ['Y' 'N']\n",
      "Electrical ['SBrkr' 'FuseF' 'FuseA' 'FuseP' 'Mix' '0']\n",
      "KitchenQual ['Gd' 'TA' 'Ex' 'Fa']\n",
      "Functional ['Typ' 'Min1' 'Maj1' 'Min2' 'Mod' 'Maj2' 'Sev']\n",
      "FireplaceQu ['0' 'TA' 'Gd' 'Fa' 'Ex' 'Po']\n",
      "GarageType ['Attchd' 'Detchd' 'BuiltIn' 'CarPort' '0' 'Basment' '2Types']\n",
      "GarageYrBlt [2003.0 1976.0 2001.0 1998.0 2000.0 1993.0 2004.0 1973.0 1931.0 1939.0\n",
      " 1965.0 2005.0 1962.0 2006.0 1960.0 1991.0 1970.0 1967.0 1958.0 1930.0\n",
      " 2002.0 1968.0 2007.0 2008.0 1957.0 1920.0 1966.0 1959.0 1995.0 1954.0\n",
      " 1953.0 '0' 1983.0 1977.0 1997.0 1985.0 1963.0 1981.0 1964.0 1999.0 1935.0\n",
      " 1990.0 1945.0 1987.0 1989.0 1915.0 1956.0 1948.0 1974.0 2009.0 1950.0\n",
      " 1961.0 1921.0 1900.0 1979.0 1951.0 1969.0 1936.0 1975.0 1971.0 1923.0\n",
      " 1984.0 1926.0 1955.0 1986.0 1988.0 1916.0 1932.0 1972.0 1918.0 1980.0\n",
      " 1924.0 1996.0 1940.0 1949.0 1994.0 1910.0 1978.0 1982.0 1992.0 1925.0\n",
      " 1941.0 2010.0 1927.0 1947.0 1937.0 1942.0 1938.0 1952.0 1928.0 1922.0\n",
      " 1934.0 1906.0 1914.0 1946.0 1908.0 1929.0 1933.0]\n",
      "GarageFinish ['RFn' 'Unf' 'Fin' '0']\n",
      "GarageQual ['TA' 'Fa' 'Gd' '0' 'Ex' 'Po']\n",
      "GarageCond ['TA' 'Fa' '0' 'Gd' 'Po' 'Ex']\n",
      "PavedDrive ['Y' 'N' 'P']\n",
      "PoolQC ['0' 'Ex' 'Fa' 'Gd']\n",
      "Fence ['0' 'MnPrv' 'GdWo' 'GdPrv' 'MnWw']\n",
      "MiscFeature ['0' 'Shed' 'Gar2' 'Othr' 'TenC']\n",
      "MoSold ['2' '5' '9' '12' '10' '8' '11' '4' '1' '7' '3' '6']\n",
      "SaleType ['WD' 'New' 'COD' 'ConLD' 'ConLI' 'CWD' 'ConLw' 'Con' 'Oth']\n",
      "SaleCondition ['Normal' 'Abnorml' 'Partial' 'AdjLand' 'Alloca' 'Family']\n"
     ]
    }
   ],
   "source": [
    "for i in df_train.columns:\n",
    "    if(df_train[i].dtypes == object):\n",
    "        print(i , df_train[i].unique())"
   ]
  },
  {
   "cell_type": "code",
   "execution_count": 17,
   "metadata": {},
   "outputs": [],
   "source": [
    "col_obj = []\n",
    "for i in df_train.columns:\n",
    "    if(df_train[i].dtypes == object):\n",
    "        col_obj.append(i)"
   ]
  },
  {
   "cell_type": "code",
   "execution_count": 18,
   "metadata": {},
   "outputs": [],
   "source": [
    "col_int = ['LotFrontage', 'MasVnrArea', 'GarageYrBlt', 'MoSold']\n",
    "\n",
    "for i in df_train[col_int]:\n",
    "    df_train[i] = df_train[i].astype('int64')"
   ]
  },
  {
   "cell_type": "code",
   "execution_count": 55,
   "metadata": {},
   "outputs": [],
   "source": [
    "df_train_X = pd.get_dummies(df_train)"
   ]
  },
  {
   "cell_type": "code",
   "execution_count": 56,
   "metadata": {},
   "outputs": [
    {
     "data": {
      "text/html": [
       "<div>\n",
       "<style scoped>\n",
       "    .dataframe tbody tr th:only-of-type {\n",
       "        vertical-align: middle;\n",
       "    }\n",
       "\n",
       "    .dataframe tbody tr th {\n",
       "        vertical-align: top;\n",
       "    }\n",
       "\n",
       "    .dataframe thead th {\n",
       "        text-align: right;\n",
       "    }\n",
       "</style>\n",
       "<table border=\"1\" class=\"dataframe\">\n",
       "  <thead>\n",
       "    <tr style=\"text-align: right;\">\n",
       "      <th></th>\n",
       "      <th>Column Type</th>\n",
       "      <th>Count</th>\n",
       "    </tr>\n",
       "  </thead>\n",
       "  <tbody>\n",
       "    <tr>\n",
       "      <th>0</th>\n",
       "      <td>int64</td>\n",
       "      <td>37</td>\n",
       "    </tr>\n",
       "    <tr>\n",
       "      <th>1</th>\n",
       "      <td>datetime64[ns]</td>\n",
       "      <td>1</td>\n",
       "    </tr>\n",
       "    <tr>\n",
       "      <th>2</th>\n",
       "      <td>object</td>\n",
       "      <td>43</td>\n",
       "    </tr>\n",
       "  </tbody>\n",
       "</table>\n",
       "</div>"
      ],
      "text/plain": [
       "      Column Type  Count\n",
       "0           int64     37\n",
       "1  datetime64[ns]      1\n",
       "2          object     43"
      ]
     },
     "execution_count": 56,
     "metadata": {},
     "output_type": "execute_result"
    }
   ],
   "source": [
    "#кол-во встречаемых типов данных\n",
    "dtype_df = df_train.dtypes.reset_index()\n",
    "dtype_df.columns = [\"Count\", \"Column Type\"]\n",
    "dtype_df.groupby(\"Column Type\").aggregate('count').reset_index()"
   ]
  },
  {
   "cell_type": "code",
   "execution_count": 21,
   "metadata": {},
   "outputs": [
    {
     "ename": "NameError",
     "evalue": "name 'train_y' is not defined",
     "output_type": "error",
     "traceback": [
      "\u001b[0;31m---------------------------------------------------------------------------\u001b[0m",
      "\u001b[0;31mNameError\u001b[0m                                 Traceback (most recent call last)",
      "\u001b[0;32m<ipython-input-21-ed0e6a60bcf1>\u001b[0m in \u001b[0;36m<module>\u001b[0;34m()\u001b[0m\n\u001b[0;32m----> 1\u001b[0;31m \u001b[0mtrain_y\u001b[0m\u001b[0;34m\u001b[0m\u001b[0m\n\u001b[0m",
      "\u001b[0;31mNameError\u001b[0m: name 'train_y' is not defined"
     ]
    }
   ],
   "source": [
    "train_y"
   ]
  },
  {
   "cell_type": "code",
   "execution_count": 22,
   "metadata": {},
   "outputs": [
    {
     "ename": "NameError",
     "evalue": "name 'train_X' is not defined",
     "output_type": "error",
     "traceback": [
      "\u001b[0;31m---------------------------------------------------------------------------\u001b[0m",
      "\u001b[0;31mNameError\u001b[0m                                 Traceback (most recent call last)",
      "\u001b[0;32m<ipython-input-22-b1df3e84bc76>\u001b[0m in \u001b[0;36m<module>\u001b[0;34m()\u001b[0m\n\u001b[0;32m----> 1\u001b[0;31m \u001b[0mtrain_X\u001b[0m\u001b[0;34m.\u001b[0m\u001b[0mhead\u001b[0m\u001b[0;34m(\u001b[0m\u001b[0;34m)\u001b[0m\u001b[0;34m\u001b[0m\u001b[0m\n\u001b[0m",
      "\u001b[0;31mNameError\u001b[0m: name 'train_X' is not defined"
     ]
    }
   ],
   "source": [
    "train_X.head()"
   ]
  },
  {
   "cell_type": "code",
   "execution_count": 23,
   "metadata": {},
   "outputs": [
    {
     "data": {
      "text/plain": [
       "\"\\nxgb_params = {\\n    'n_estimators':1000, \\n    'learning_rate':0.05,\\n     'max_depth':4, \\n    'max_features': 'sqrt',\\n     'min_samples_leaf':15, \\n    'min_samples_split':10, \\n    'loss':'huber', \\n    'reg':'linear',\\n    'eval_metric': 'rmse',\\n    'random_state':5}\\n\\ndtrain = xgb.DMatrix(train_X, train_y, feature_names=train_X.columns.values)\\n\\ndtest = xgb.DMatrix(test_X, feature_names=test_X.columns.values)\\ndtest = xgb.DMatrix(test_X)\\n\\n\\nmodel = xgb.train(dict(xgb_params, silent=0), dtrain, num_boost_round=1000)\\nnum_boost_round = model.best_iteration\""
      ]
     },
     "execution_count": 23,
     "metadata": {},
     "output_type": "execute_result"
    }
   ],
   "source": [
    "train_y = np.log(df_train_X.SalePrice.values)\n",
    "train_X = df_train_X.drop([\"Id\", \"YrSold\", \"MoSold\", \"SalePrice\"], axis=1)\n",
    "\n",
    "test_X = df_test.drop([\"Id\", \"YrSold\",\"MoSold\"], axis=1)\n",
    "test_X = pd.get_dummies(test_X)\n",
    "\n",
    "#добавляем недостающие колонки\n",
    "col_diff = set(train_X.columns) - set(test_X.columns)\n",
    "for i in col_diff:\n",
    "    test_X[i] = 0\n",
    "\n",
    "#xgb_model = xgb.XGBClassifier()\n",
    "#xgb_reg = xgb.XGBRegressor()\n",
    "\n",
    "housematrix=xgb.DMatrix(data=train_X, label=train_y)\n",
    "\n",
    "'''\n",
    "xgb_params = {\n",
    "    'n_estimators':1000, \n",
    "    'learning_rate':0.05,\n",
    "     'max_depth':4, \n",
    "    'max_features': 'sqrt',\n",
    "     'min_samples_leaf':15, \n",
    "    'min_samples_split':10, \n",
    "    'loss':'huber', \n",
    "    'reg':'linear',\n",
    "    'eval_metric': 'rmse',\n",
    "    'random_state':5}\n",
    "\n",
    "dtrain = xgb.DMatrix(train_X, train_y, feature_names=train_X.columns.values)\n",
    "\n",
    "dtest = xgb.DMatrix(test_X, feature_names=test_X.columns.values)\n",
    "dtest = xgb.DMatrix(test_X)\n",
    "\n",
    "\n",
    "model = xgb.train(dict(xgb_params, silent=0), dtrain, num_boost_round=1000)\n",
    "num_boost_round = model.best_iteration'''"
   ]
  },
  {
   "cell_type": "code",
   "execution_count": 24,
   "metadata": {},
   "outputs": [],
   "source": [
    "xgb_param_grid = {'colsample_bytree':[0.3,0.5,0.7,1],'n_estimators':[50, 100, 200],\n",
    "                  'max_depth':[3,5,7,10]}\n",
    "xgb_inst= xgb.XGBRegressor()\n",
    "\n",
    "xgb_grid = GridSearchCV(estimator= xgb_inst, param_grid = xgb_param_grid,\n",
    "                        scoring='neg_mean_squared_error', cv=5, verbose=1)"
   ]
  },
  {
   "cell_type": "code",
   "execution_count": 25,
   "metadata": {},
   "outputs": [
    {
     "name": "stdout",
     "output_type": "stream",
     "text": [
      "Fitting 5 folds for each of 48 candidates, totalling 240 fits\n"
     ]
    },
    {
     "name": "stderr",
     "output_type": "stream",
     "text": [
      "[Parallel(n_jobs=1)]: Done 240 out of 240 | elapsed:  2.3min finished\n"
     ]
    },
    {
     "name": "stdout",
     "output_type": "stream",
     "text": [
      "Fitting 5 folds for each of 48 candidates, totalling 240 fits\n"
     ]
    },
    {
     "name": "stderr",
     "output_type": "stream",
     "text": [
      "[Parallel(n_jobs=1)]: Done 240 out of 240 | elapsed:  2.3min finished\n"
     ]
    }
   ],
   "source": [
    "scores_xgb=cross_val_score(xgb_grid,train_X,train_y,scoring='neg_mean_squared_error',cv=2)"
   ]
  },
  {
   "cell_type": "code",
   "execution_count": 26,
   "metadata": {},
   "outputs": [
    {
     "data": {
      "text/plain": [
       "'# plot the important features #\\nfig, ax = plt.subplots(figsize=(15,10))\\nxgb.plot_importance(model, max_num_features=50, height=0.8, ax=ax)\\nplt.show()'"
      ]
     },
     "execution_count": 26,
     "metadata": {},
     "output_type": "execute_result"
    }
   ],
   "source": [
    "'''# plot the important features #\n",
    "fig, ax = plt.subplots(figsize=(15,10))\n",
    "xgb.plot_importance(model, max_num_features=50, height=0.8, ax=ax)\n",
    "plt.show()'''"
   ]
  },
  {
   "cell_type": "code",
   "execution_count": 27,
   "metadata": {},
   "outputs": [
    {
     "name": "stdout",
     "output_type": "stream",
     "text": [
      "Fitting 5 folds for each of 48 candidates, totalling 240 fits\n"
     ]
    },
    {
     "name": "stderr",
     "output_type": "stream",
     "text": [
      "[Parallel(n_jobs=1)]: Done 240 out of 240 | elapsed:  4.6min finished\n"
     ]
    },
    {
     "data": {
      "text/plain": [
       "\"ylog_pred = model.predict(dtest)\\ny_pred = np.exp(ylog_pred)\\ndf_sub = pd.DataFrame({'id': df_test.Id, 'SalePrice': y_pred})\\n\\n#df_sub.to_csv('input/exit_prive.csv', index=False)\\ndf_sub.head()\""
      ]
     },
     "execution_count": 27,
     "metadata": {},
     "output_type": "execute_result"
    }
   ],
   "source": [
    "xgb_grid.fit(train_X,train_y)\n",
    "\n",
    "'''ylog_pred = model.predict(dtest)\n",
    "y_pred = np.exp(ylog_pred)\n",
    "df_sub = pd.DataFrame({'id': df_test.Id, 'SalePrice': y_pred})\n",
    "\n",
    "#df_sub.to_csv('input/exit_prive.csv', index=False)\n",
    "df_sub.head()'''"
   ]
  },
  {
   "cell_type": "code",
   "execution_count": 28,
   "metadata": {},
   "outputs": [],
   "source": [
    "test_X = test_X[train_X.columns]"
   ]
  },
  {
   "cell_type": "code",
   "execution_count": 29,
   "metadata": {},
   "outputs": [],
   "source": [
    "pred=xgb_grid.predict(test_X)"
   ]
  },
  {
   "cell_type": "code",
   "execution_count": 30,
   "metadata": {},
   "outputs": [],
   "source": [
    "preds=np.exp(pred)"
   ]
  },
  {
   "cell_type": "code",
   "execution_count": 31,
   "metadata": {},
   "outputs": [],
   "source": [
    "output = pd.DataFrame({'Id': df_test.Id,'SalePrice': preds}) "
   ]
  },
  {
   "cell_type": "code",
   "execution_count": 59,
   "metadata": {},
   "outputs": [
    {
     "data": {
      "text/html": [
       "<div>\n",
       "<style scoped>\n",
       "    .dataframe tbody tr th:only-of-type {\n",
       "        vertical-align: middle;\n",
       "    }\n",
       "\n",
       "    .dataframe tbody tr th {\n",
       "        vertical-align: top;\n",
       "    }\n",
       "\n",
       "    .dataframe thead th {\n",
       "        text-align: right;\n",
       "    }\n",
       "</style>\n",
       "<table border=\"1\" class=\"dataframe\">\n",
       "  <thead>\n",
       "    <tr style=\"text-align: right;\">\n",
       "      <th></th>\n",
       "      <th>Id</th>\n",
       "      <th>SalePrice</th>\n",
       "    </tr>\n",
       "  </thead>\n",
       "  <tbody>\n",
       "    <tr>\n",
       "      <th>0</th>\n",
       "      <td>1461</td>\n",
       "      <td>122032.281250</td>\n",
       "    </tr>\n",
       "    <tr>\n",
       "      <th>1</th>\n",
       "      <td>1462</td>\n",
       "      <td>156956.968750</td>\n",
       "    </tr>\n",
       "    <tr>\n",
       "      <th>2</th>\n",
       "      <td>1463</td>\n",
       "      <td>189159.125000</td>\n",
       "    </tr>\n",
       "    <tr>\n",
       "      <th>3</th>\n",
       "      <td>1464</td>\n",
       "      <td>193489.296875</td>\n",
       "    </tr>\n",
       "    <tr>\n",
       "      <th>4</th>\n",
       "      <td>1465</td>\n",
       "      <td>187986.781250</td>\n",
       "    </tr>\n",
       "  </tbody>\n",
       "</table>\n",
       "</div>"
      ],
      "text/plain": [
       "     Id      SalePrice\n",
       "0  1461  122032.281250\n",
       "1  1462  156956.968750\n",
       "2  1463  189159.125000\n",
       "3  1464  193489.296875\n",
       "4  1465  187986.781250"
      ]
     },
     "execution_count": 59,
     "metadata": {},
     "output_type": "execute_result"
    }
   ],
   "source": [
    "output.head()"
   ]
  },
  {
   "cell_type": "code",
   "execution_count": 37,
   "metadata": {},
   "outputs": [
    {
     "name": "stdout",
     "output_type": "stream",
     "text": [
      "72622\n"
     ]
    }
   ],
   "source": [
    "from sklearn.metrics import mean_squared_error\n",
    "import math\n",
    "\n",
    "print(str(round(math.sqrt(mean_squared_error(sample_submission.SalePrice[:1459], output.SalePrice)))))"
   ]
  },
  {
   "cell_type": "code",
   "execution_count": 57,
   "metadata": {},
   "outputs": [],
   "source": [
    "sample_submission.to_csv('sample_submission_2.csv', index=False)"
   ]
  },
  {
   "cell_type": "code",
   "execution_count": 58,
   "metadata": {},
   "outputs": [],
   "source": [
    "output.to_csv('sample_submission.csv', sep=',', index=False)"
   ]
  },
  {
   "cell_type": "code",
   "execution_count": 108,
   "metadata": {},
   "outputs": [],
   "source": [
    "sample_submission = pd.read_csv(\"sample_submission_2.csv\")"
   ]
  },
  {
   "cell_type": "code",
   "execution_count": 112,
   "metadata": {},
   "outputs": [
    {
     "data": {
      "text/html": [
       "<div>\n",
       "<style scoped>\n",
       "    .dataframe tbody tr th:only-of-type {\n",
       "        vertical-align: middle;\n",
       "    }\n",
       "\n",
       "    .dataframe tbody tr th {\n",
       "        vertical-align: top;\n",
       "    }\n",
       "\n",
       "    .dataframe thead th {\n",
       "        text-align: right;\n",
       "    }\n",
       "</style>\n",
       "<table border=\"1\" class=\"dataframe\">\n",
       "  <thead>\n",
       "    <tr style=\"text-align: right;\">\n",
       "      <th></th>\n",
       "      <th>Id</th>\n",
       "      <th>SalePrice</th>\n",
       "    </tr>\n",
       "  </thead>\n",
       "  <tbody>\n",
       "    <tr>\n",
       "      <th>0</th>\n",
       "      <td>1461</td>\n",
       "      <td>126381.914062</td>\n",
       "    </tr>\n",
       "    <tr>\n",
       "      <th>1</th>\n",
       "      <td>1462</td>\n",
       "      <td>162473.781250</td>\n",
       "    </tr>\n",
       "    <tr>\n",
       "      <th>2</th>\n",
       "      <td>1463</td>\n",
       "      <td>189643.937500</td>\n",
       "    </tr>\n",
       "    <tr>\n",
       "      <th>3</th>\n",
       "      <td>1464</td>\n",
       "      <td>192130.812500</td>\n",
       "    </tr>\n",
       "    <tr>\n",
       "      <th>4</th>\n",
       "      <td>1465</td>\n",
       "      <td>195492.656250</td>\n",
       "    </tr>\n",
       "  </tbody>\n",
       "</table>\n",
       "</div>"
      ],
      "text/plain": [
       "     Id      SalePrice\n",
       "0  1461  126381.914062\n",
       "1  1462  162473.781250\n",
       "2  1463  189643.937500\n",
       "3  1464  192130.812500\n",
       "4  1465  195492.656250"
      ]
     },
     "execution_count": 112,
     "metadata": {},
     "output_type": "execute_result"
    }
   ],
   "source": [
    "output.head()"
   ]
  },
  {
   "cell_type": "code",
   "execution_count": 113,
   "metadata": {},
   "outputs": [
    {
     "data": {
      "text/html": [
       "<div>\n",
       "<style scoped>\n",
       "    .dataframe tbody tr th:only-of-type {\n",
       "        vertical-align: middle;\n",
       "    }\n",
       "\n",
       "    .dataframe tbody tr th {\n",
       "        vertical-align: top;\n",
       "    }\n",
       "\n",
       "    .dataframe thead th {\n",
       "        text-align: right;\n",
       "    }\n",
       "</style>\n",
       "<table border=\"1\" class=\"dataframe\">\n",
       "  <thead>\n",
       "    <tr style=\"text-align: right;\">\n",
       "      <th></th>\n",
       "      <th>SalePrice</th>\n",
       "    </tr>\n",
       "    <tr>\n",
       "      <th>Id</th>\n",
       "      <th></th>\n",
       "    </tr>\n",
       "  </thead>\n",
       "  <tbody>\n",
       "    <tr>\n",
       "      <th>1461</th>\n",
       "      <td>126381.914062</td>\n",
       "    </tr>\n",
       "    <tr>\n",
       "      <th>1462</th>\n",
       "      <td>162473.781250</td>\n",
       "    </tr>\n",
       "    <tr>\n",
       "      <th>1463</th>\n",
       "      <td>189643.937500</td>\n",
       "    </tr>\n",
       "    <tr>\n",
       "      <th>1464</th>\n",
       "      <td>192130.812500</td>\n",
       "    </tr>\n",
       "    <tr>\n",
       "      <th>1465</th>\n",
       "      <td>195492.656250</td>\n",
       "    </tr>\n",
       "    <tr>\n",
       "      <th>1466</th>\n",
       "      <td>170672.140625</td>\n",
       "    </tr>\n",
       "    <tr>\n",
       "      <th>1467</th>\n",
       "      <td>180999.375000</td>\n",
       "    </tr>\n",
       "    <tr>\n",
       "      <th>1468</th>\n",
       "      <td>162429.625000</td>\n",
       "    </tr>\n",
       "    <tr>\n",
       "      <th>1469</th>\n",
       "      <td>186787.656250</td>\n",
       "    </tr>\n",
       "    <tr>\n",
       "      <th>1470</th>\n",
       "      <td>122502.429688</td>\n",
       "    </tr>\n",
       "    <tr>\n",
       "      <th>1471</th>\n",
       "      <td>196214.937500</td>\n",
       "    </tr>\n",
       "    <tr>\n",
       "      <th>1472</th>\n",
       "      <td>97774.250000</td>\n",
       "    </tr>\n",
       "    <tr>\n",
       "      <th>1473</th>\n",
       "      <td>102706.226562</td>\n",
       "    </tr>\n",
       "    <tr>\n",
       "      <th>1474</th>\n",
       "      <td>154322.859375</td>\n",
       "    </tr>\n",
       "    <tr>\n",
       "      <th>1475</th>\n",
       "      <td>124862.710938</td>\n",
       "    </tr>\n",
       "    <tr>\n",
       "      <th>1476</th>\n",
       "      <td>391316.000000</td>\n",
       "    </tr>\n",
       "    <tr>\n",
       "      <th>1477</th>\n",
       "      <td>263355.562500</td>\n",
       "    </tr>\n",
       "    <tr>\n",
       "      <th>1478</th>\n",
       "      <td>291095.187500</td>\n",
       "    </tr>\n",
       "    <tr>\n",
       "      <th>1479</th>\n",
       "      <td>277096.656250</td>\n",
       "    </tr>\n",
       "    <tr>\n",
       "      <th>1480</th>\n",
       "      <td>510661.000000</td>\n",
       "    </tr>\n",
       "    <tr>\n",
       "      <th>1481</th>\n",
       "      <td>332105.906250</td>\n",
       "    </tr>\n",
       "    <tr>\n",
       "      <th>1482</th>\n",
       "      <td>203953.046875</td>\n",
       "    </tr>\n",
       "    <tr>\n",
       "      <th>1483</th>\n",
       "      <td>178029.328125</td>\n",
       "    </tr>\n",
       "    <tr>\n",
       "      <th>1484</th>\n",
       "      <td>169702.375000</td>\n",
       "    </tr>\n",
       "    <tr>\n",
       "      <th>1485</th>\n",
       "      <td>177895.250000</td>\n",
       "    </tr>\n",
       "    <tr>\n",
       "      <th>1486</th>\n",
       "      <td>192539.109375</td>\n",
       "    </tr>\n",
       "    <tr>\n",
       "      <th>1487</th>\n",
       "      <td>334024.093750</td>\n",
       "    </tr>\n",
       "    <tr>\n",
       "      <th>1488</th>\n",
       "      <td>238288.406250</td>\n",
       "    </tr>\n",
       "    <tr>\n",
       "      <th>1489</th>\n",
       "      <td>208174.296875</td>\n",
       "    </tr>\n",
       "    <tr>\n",
       "      <th>1490</th>\n",
       "      <td>220097.203125</td>\n",
       "    </tr>\n",
       "    <tr>\n",
       "      <th>...</th>\n",
       "      <td>...</td>\n",
       "    </tr>\n",
       "    <tr>\n",
       "      <th>2890</th>\n",
       "      <td>86206.101562</td>\n",
       "    </tr>\n",
       "    <tr>\n",
       "      <th>2891</th>\n",
       "      <td>137626.687500</td>\n",
       "    </tr>\n",
       "    <tr>\n",
       "      <th>2892</th>\n",
       "      <td>50847.101562</td>\n",
       "    </tr>\n",
       "    <tr>\n",
       "      <th>2893</th>\n",
       "      <td>87148.023438</td>\n",
       "    </tr>\n",
       "    <tr>\n",
       "      <th>2894</th>\n",
       "      <td>52186.164062</td>\n",
       "    </tr>\n",
       "    <tr>\n",
       "      <th>2895</th>\n",
       "      <td>300093.343750</td>\n",
       "    </tr>\n",
       "    <tr>\n",
       "      <th>2896</th>\n",
       "      <td>271260.437500</td>\n",
       "    </tr>\n",
       "    <tr>\n",
       "      <th>2897</th>\n",
       "      <td>196452.359375</td>\n",
       "    </tr>\n",
       "    <tr>\n",
       "      <th>2898</th>\n",
       "      <td>150325.031250</td>\n",
       "    </tr>\n",
       "    <tr>\n",
       "      <th>2899</th>\n",
       "      <td>225323.109375</td>\n",
       "    </tr>\n",
       "    <tr>\n",
       "      <th>2900</th>\n",
       "      <td>161486.984375</td>\n",
       "    </tr>\n",
       "    <tr>\n",
       "      <th>2901</th>\n",
       "      <td>198062.828125</td>\n",
       "    </tr>\n",
       "    <tr>\n",
       "      <th>2902</th>\n",
       "      <td>189951.093750</td>\n",
       "    </tr>\n",
       "    <tr>\n",
       "      <th>2903</th>\n",
       "      <td>355924.718750</td>\n",
       "    </tr>\n",
       "    <tr>\n",
       "      <th>2904</th>\n",
       "      <td>363348.875000</td>\n",
       "    </tr>\n",
       "    <tr>\n",
       "      <th>2905</th>\n",
       "      <td>104674.906250</td>\n",
       "    </tr>\n",
       "    <tr>\n",
       "      <th>2906</th>\n",
       "      <td>203633.328125</td>\n",
       "    </tr>\n",
       "    <tr>\n",
       "      <th>2907</th>\n",
       "      <td>108848.632812</td>\n",
       "    </tr>\n",
       "    <tr>\n",
       "      <th>2908</th>\n",
       "      <td>136083.109375</td>\n",
       "    </tr>\n",
       "    <tr>\n",
       "      <th>2909</th>\n",
       "      <td>151050.031250</td>\n",
       "    </tr>\n",
       "    <tr>\n",
       "      <th>2910</th>\n",
       "      <td>81735.367188</td>\n",
       "    </tr>\n",
       "    <tr>\n",
       "      <th>2911</th>\n",
       "      <td>84192.757812</td>\n",
       "    </tr>\n",
       "    <tr>\n",
       "      <th>2912</th>\n",
       "      <td>140163.906250</td>\n",
       "    </tr>\n",
       "    <tr>\n",
       "      <th>2913</th>\n",
       "      <td>85543.156250</td>\n",
       "    </tr>\n",
       "    <tr>\n",
       "      <th>2914</th>\n",
       "      <td>79945.437500</td>\n",
       "    </tr>\n",
       "    <tr>\n",
       "      <th>2915</th>\n",
       "      <td>83939.812500</td>\n",
       "    </tr>\n",
       "    <tr>\n",
       "      <th>2916</th>\n",
       "      <td>84985.500000</td>\n",
       "    </tr>\n",
       "    <tr>\n",
       "      <th>2917</th>\n",
       "      <td>156755.484375</td>\n",
       "    </tr>\n",
       "    <tr>\n",
       "      <th>2918</th>\n",
       "      <td>116832.000000</td>\n",
       "    </tr>\n",
       "    <tr>\n",
       "      <th>2919</th>\n",
       "      <td>214899.640625</td>\n",
       "    </tr>\n",
       "  </tbody>\n",
       "</table>\n",
       "<p>1459 rows × 1 columns</p>\n",
       "</div>"
      ],
      "text/plain": [
       "          SalePrice\n",
       "Id                 \n",
       "1461  126381.914062\n",
       "1462  162473.781250\n",
       "1463  189643.937500\n",
       "1464  192130.812500\n",
       "1465  195492.656250\n",
       "1466  170672.140625\n",
       "1467  180999.375000\n",
       "1468  162429.625000\n",
       "1469  186787.656250\n",
       "1470  122502.429688\n",
       "1471  196214.937500\n",
       "1472   97774.250000\n",
       "1473  102706.226562\n",
       "1474  154322.859375\n",
       "1475  124862.710938\n",
       "1476  391316.000000\n",
       "1477  263355.562500\n",
       "1478  291095.187500\n",
       "1479  277096.656250\n",
       "1480  510661.000000\n",
       "1481  332105.906250\n",
       "1482  203953.046875\n",
       "1483  178029.328125\n",
       "1484  169702.375000\n",
       "1485  177895.250000\n",
       "1486  192539.109375\n",
       "1487  334024.093750\n",
       "1488  238288.406250\n",
       "1489  208174.296875\n",
       "1490  220097.203125\n",
       "...             ...\n",
       "2890   86206.101562\n",
       "2891  137626.687500\n",
       "2892   50847.101562\n",
       "2893   87148.023438\n",
       "2894   52186.164062\n",
       "2895  300093.343750\n",
       "2896  271260.437500\n",
       "2897  196452.359375\n",
       "2898  150325.031250\n",
       "2899  225323.109375\n",
       "2900  161486.984375\n",
       "2901  198062.828125\n",
       "2902  189951.093750\n",
       "2903  355924.718750\n",
       "2904  363348.875000\n",
       "2905  104674.906250\n",
       "2906  203633.328125\n",
       "2907  108848.632812\n",
       "2908  136083.109375\n",
       "2909  151050.031250\n",
       "2910   81735.367188\n",
       "2911   84192.757812\n",
       "2912  140163.906250\n",
       "2913   85543.156250\n",
       "2914   79945.437500\n",
       "2915   83939.812500\n",
       "2916   84985.500000\n",
       "2917  156755.484375\n",
       "2918  116832.000000\n",
       "2919  214899.640625\n",
       "\n",
       "[1459 rows x 1 columns]"
      ]
     },
     "execution_count": 113,
     "metadata": {},
     "output_type": "execute_result"
    }
   ],
   "source": [
    "output.set_index('Id')"
   ]
  },
  {
   "cell_type": "code",
   "execution_count": 100,
   "metadata": {},
   "outputs": [
    {
     "name": "stdout",
     "output_type": "stream",
     "text": [
      "Mean Sqrt Error : 71924\n",
      "Заметим, что скор не очень высокий, так как объема данных недостаточно. \n",
      " Можно бы было еще сделать цену категориальным признаком, немного упростив задачу (Н: от 50тыс до 100 тыс) и выбрать метрику f1, тогда могли бы получитьболее высокий скор\n"
     ]
    }
   ],
   "source": [
    "#оценка модели. среднеквадратическое отклонение\n",
    "from sklearn.metrics import mean_squared_error\n",
    "from math import sqrt\n",
    "\n",
    "print(\"Mean Sqrt Error : \" + str(round(sqrt(mean_squared_error(sample_submission.SalePrice[:1459], output.SalePrice)))))\n"
   ]
  }
 ],
 "metadata": {
  "kernelspec": {
   "display_name": "Python 3",
   "language": "python",
   "name": "python3"
  }
 },
 "nbformat": 4,
 "nbformat_minor": 2
}
